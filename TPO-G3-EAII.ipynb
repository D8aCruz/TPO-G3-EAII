{
 "cells": [
  {
   "cell_type": "markdown",
   "metadata": {},
   "source": [
    "<div style=\"display: flex; align-items: center;\">\n",
    "    <img src=\"IMG/logo-utn-frba-electronica.svg\" alt=\"Logo UTN FRBA\" width=\"250\" height=\"100\" style=\"flex-shrink: 0;\">\n",
    "    <p style=\"font-family: 'American Typewriter', 'Courier New', Courier, 'Lucida Sans Typewriter', 'Lucida Typewriter', monospace; text-align: right; margin-left: auto; line-height: 1.2;\">\n",
    "    <font color='black'><strong>ELECTRÓNICA APLICADA II</strong><br>Curso R4053 - 2024<br>Grupo 3</font>\n",
    "    </p>\n",
    "</div>"
   ]
  },
  {
   "cell_type": "markdown",
   "metadata": {},
   "source": [
    "<div style=\"display: flex; align-items: center;\">\n",
    "    <img src=\"IMG/logo-utn-frba-electronica.svg\" alt=\"Logo UTN FRBA\" width=\"250\" height=\"100\" style=\"flex-shrink: 0;\">\n",
    "    <p style=\"font-family: 'Times New Roman', Times, serif; text-align: right; margin-left: auto; line-height: 1.2;\">\n",
    "        <font color='black'><strong>ELECTRÓNICA APLICADA II</strong><br>Curso R4053 - 2024<br>Grupo 3</font>\n",
    "    </p>\n",
    "</div>"
   ]
  }
 ],
 "metadata": {
  "language_info": {
   "name": "python"
  }
 },
 "nbformat": 4,
 "nbformat_minor": 2
}
